{
 "cells": [
  {
   "cell_type": "code",
   "execution_count": 1,
   "metadata": {},
   "outputs": [],
   "source": [
    "from itertools import combinations\n",
    "from itertools import permutations"
   ]
  },
  {
   "cell_type": "code",
   "execution_count": null,
   "metadata": {},
   "outputs": [],
   "source": [
    "l=[]\n",
    "for i in sorted(set(permutations('ABAB', 4))):\n",
    "    print (i)\n",
    "    l.append(\"\".join(i))\n",
    "    \n",
    "print (l)"
   ]
  },
  {
   "cell_type": "code",
   "execution_count": 2,
   "metadata": {},
   "outputs": [],
   "source": [
    "def listPosition(word):\n",
    "    w = tuple(word)\n",
    "    l=[]\n",
    "    l=sorted(set(permutations(w,len(w))))\n",
    "    print(l.index(w)+1)"
   ]
  },
  {
   "cell_type": "code",
   "execution_count": 3,
   "metadata": {},
   "outputs": [
    {
     "output_type": "stream",
     "name": "stdout",
     "text": [
      "1\n"
     ]
    }
   ],
   "source": [
    "listPosition(\"HXZa\")"
   ]
  },
  {
   "cell_type": "code",
   "execution_count": 4,
   "metadata": {},
   "outputs": [
    {
     "data": {
      "text/plain": [
       "['h', 'o', 'l', 'a']"
      ]
     },
     "execution_count": 4,
     "metadata": {},
     "output_type": "execute_result"
    }
   ],
   "source": [
    "w=\"hola\"\n",
    "\n",
    "list(w)"
   ]
  },
  {
   "cell_type": "code",
   "execution_count": 69,
   "metadata": {},
   "outputs": [],
   "source": [
    "from itertools import permutations\n",
    "\n",
    "def next_smaller(n):\n",
    "    ln      = list(str(n))\n",
    "    last_n  = tuple(str(n))\n",
    "    last_na = \"-1\"\n",
    "    ln.sort()\n",
    "    ln      = tuple(ln)\n",
    "\n",
    "    #print (f\"ln->{ln}\")\n",
    "    #print (f\"last_n->{last_n}\")\n",
    "    for i in permutations(ln, len(ln)):\n",
    "        #print (f\"i->{i}\")\n",
    "        if i == last_n:\n",
    "            return int(\"\".join(last_na))\n",
    "        else:\n",
    "            last_na = i\n",
    "\n",
    "    "
   ]
  },
  {
   "cell_type": "code",
   "execution_count": 74,
   "metadata": {},
   "outputs": [
    {
     "output_type": "error",
     "ename": "KeyboardInterrupt",
     "evalue": "",
     "traceback": [
      "\u001b[1;31m---------------------------------------------------------------------------\u001b[0m",
      "\u001b[1;31mKeyboardInterrupt\u001b[0m                         Traceback (most recent call last)",
      "\u001b[1;32m<ipython-input-74-5583b5657b2d>\u001b[0m in \u001b[0;36m<module>\u001b[1;34m\u001b[0m\n\u001b[1;32m----> 1\u001b[1;33m \u001b[0mprint\u001b[0m \u001b[1;33m(\u001b[0m\u001b[0mnext_smaller\u001b[0m\u001b[1;33m(\u001b[0m\u001b[1;36m1354999999999999999999\u001b[0m\u001b[1;33m)\u001b[0m\u001b[1;33m)\u001b[0m\u001b[1;33m\u001b[0m\u001b[1;33m\u001b[0m\u001b[0m\n\u001b[0m",
      "\u001b[1;32m<ipython-input-69-e69a5936433e>\u001b[0m in \u001b[0;36mnext_smaller\u001b[1;34m(n)\u001b[0m\n\u001b[0;32m     15\u001b[0m             \u001b[1;32mreturn\u001b[0m \u001b[0mint\u001b[0m\u001b[1;33m(\u001b[0m\u001b[1;34m\"\"\u001b[0m\u001b[1;33m.\u001b[0m\u001b[0mjoin\u001b[0m\u001b[1;33m(\u001b[0m\u001b[0mlast_na\u001b[0m\u001b[1;33m)\u001b[0m\u001b[1;33m)\u001b[0m\u001b[1;33m\u001b[0m\u001b[1;33m\u001b[0m\u001b[0m\n\u001b[0;32m     16\u001b[0m         \u001b[1;32melse\u001b[0m\u001b[1;33m:\u001b[0m\u001b[1;33m\u001b[0m\u001b[1;33m\u001b[0m\u001b[0m\n\u001b[1;32m---> 17\u001b[1;33m             \u001b[0mlast_na\u001b[0m \u001b[1;33m=\u001b[0m \u001b[0mi\u001b[0m\u001b[1;33m\u001b[0m\u001b[1;33m\u001b[0m\u001b[0m\n\u001b[0m\u001b[0;32m     18\u001b[0m \u001b[1;33m\u001b[0m\u001b[0m\n\u001b[0;32m     19\u001b[0m \u001b[1;33m\u001b[0m\u001b[0m\n",
      "\u001b[1;31mKeyboardInterrupt\u001b[0m: "
     ]
    }
   ],
   "source": [
    "print (next_smaller(1354999999999999999999))"
   ]
  },
  {
   "cell_type": "code",
   "execution_count": 76,
   "metadata": {},
   "outputs": [],
   "source": [
    "from itertools import combinations\n",
    "from itertools import permutations\n"
   ]
  },
  {
   "cell_type": "code",
   "execution_count": 79,
   "metadata": {},
   "outputs": [
    {
     "output_type": "stream",
     "name": "stdout",
     "text": [
      "[(1, 2, 3, 2), (1, 2, 2, 3), (1, 3, 2, 2), (1, 3, 2, 2), (1, 2, 2, 3), (1, 2, 3, 2), (2, 1, 3, 2), (2, 1, 2, 3), (2, 3, 1, 2), (2, 3, 2, 1), (2, 2, 1, 3), (2, 2, 3, 1), (3, 1, 2, 2), (3, 1, 2, 2), (3, 2, 1, 2), (3, 2, 2, 1), (3, 2, 1, 2), (3, 2, 2, 1), (2, 1, 2, 3), (2, 1, 3, 2), (2, 2, 1, 3), (2, 2, 3, 1), (2, 3, 1, 2), (2, 3, 2, 1)]\n"
     ]
    }
   ],
   "source": [
    "print(list(permutations([1, 2, 3, 2], 4)))"
   ]
  },
  {
   "cell_type": "code",
   "execution_count": 184,
   "metadata": {},
   "outputs": [],
   "source": [
    "def snail(snail_map):\n",
    "    x = len(snail_map[0])\n",
    "    y = len(snail_map)\n",
    "    print (f\"x-> {x}, y-> {y}\")\n",
    "    x_s = 0\n",
    "    x_dir = 1\n",
    "    y_s = 0\n",
    "    y_dir = 1\n",
    "    for x_aux in range(x_s, x, x_dir):\n",
    "        print (snail_map[y_s][x_aux], end=\",\")\n",
    "\n",
    "    x_dir = 1 if x_dir == -1 else -1\n",
    "\n",
    "    x_s += 1\n",
    "    y_s += 1\n",
    "\n",
    "    for y_aux in range(y_s, y, y_dir):\n",
    "        print (snail_map[y_aux][x_aux], end=\",\")\n",
    "    \n",
    "    y_dir = 1 if y_dir == -1 else -1\n",
    "    #x_s +=1     \n",
    "\n",
    "    x -= 1\n",
    "    y -= 1\n",
    "    for x_aux in range(x-1, x_s-1, x_dir):\n",
    "        print (snail_map[y][x_aux], end=\",\")\n",
    "\n",
    "    x_dir = 1 if x_dir == -1 else -1\n",
    "\n",
    "    for y_aux in range(y, y_s-1, y_dir):\n",
    "        print (snail_map[y_aux][x_s], end=\",\")\n",
    "    \n",
    "    y_dir = 1 if y_dir == -1 else -1\n",
    "\n",
    "    x -= 1\n",
    "    y -= 1\n",
    "    for x_aux in range(x_s, x, x_dir):\n",
    "        print (snail_map[y_s][x_aux], end=\",\")\n",
    "\n",
    "    x_dir = 1 if x_dir == -1 else -1"
   ]
  },
  {
   "cell_type": "code",
   "execution_count": 185,
   "metadata": {},
   "outputs": [
    {
     "output_type": "stream",
     "name": "stdout",
     "text": [
      "x-> 3, y-> 3\n1,2,3,6,9,8,8,5,"
     ]
    }
   ],
   "source": [
    "snail([[1,2,3], [4,5,6], [7,8,9]])"
   ]
  },
  {
   "cell_type": "code",
   "execution_count": 101,
   "metadata": {},
   "outputs": [
    {
     "output_type": "execute_result",
     "data": {
      "text/plain": [
       "-2"
      ]
     },
     "metadata": {},
     "execution_count": 101
    }
   ],
   "source": [
    "1 ^ -1\n"
   ]
  },
  {
   "cell_type": "code",
   "execution_count": null,
   "metadata": {},
   "outputs": [],
   "source": []
  }
 ],
 "metadata": {
  "kernelspec": {
   "name": "python390jvsc74a57bd0ac59ebe37160ed0dfa835113d9b8498d9f09ceb179beaac4002f036b9467c963",
   "display_name": "Python 3.9.0 64-bit"
  },
  "language_info": {
   "codemirror_mode": {
    "name": "ipython",
    "version": 3
   },
   "file_extension": ".py",
   "mimetype": "text/x-python",
   "name": "python",
   "nbconvert_exporter": "python",
   "pygments_lexer": "ipython3",
   "version": "3.9.0-final"
  },
  "metadata": {
   "interpreter": {
    "hash": "ac59ebe37160ed0dfa835113d9b8498d9f09ceb179beaac4002f036b9467c963"
   }
  }
 },
 "nbformat": 4,
 "nbformat_minor": 4
}